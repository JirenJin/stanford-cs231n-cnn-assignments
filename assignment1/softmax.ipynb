{
 "cells": [
  {
   "cell_type": "markdown",
   "metadata": {},
   "source": [
    "# Softmax exercise\n",
    "\n",
    "*Complete and hand in this completed worksheet (including its outputs and any supporting code outside of the worksheet) with your assignment submission. For more details see the [assignments page](http://vision.stanford.edu/teaching/cs231n/assignments.html) on the course website.*\n",
    "\n",
    "This exercise is analogous to the SVM exercise. You will:\n",
    "\n",
    "- implement a fully-vectorized **loss function** for the Softmax classifier\n",
    "- implement the fully-vectorized expression for its **analytic gradient**\n",
    "- **check your implementation** with numerical gradient\n",
    "- use a validation set to **tune the learning rate and regularization** strength\n",
    "- **optimize** the loss function with **SGD**\n",
    "- **visualize** the final learned weights\n"
   ]
  },
  {
   "cell_type": "code",
   "execution_count": 34,
   "metadata": {
    "collapsed": false
   },
   "outputs": [
    {
     "name": "stdout",
     "output_type": "stream",
     "text": [
      "The autoreload extension is already loaded. To reload it, use:\n",
      "  %reload_ext autoreload\n"
     ]
    }
   ],
   "source": [
    "import random\n",
    "import numpy as np\n",
    "from cs231n.data_utils import load_CIFAR10\n",
    "import matplotlib.pyplot as plt\n",
    "%matplotlib inline\n",
    "plt.rcParams['figure.figsize'] = (10.0, 8.0) # set default size of plots\n",
    "plt.rcParams['image.interpolation'] = 'nearest'\n",
    "plt.rcParams['image.cmap'] = 'gray'\n",
    "\n",
    "# for auto-reloading extenrnal modules\n",
    "# see http://stackoverflow.com/questions/1907993/autoreload-of-modules-in-ipython\n",
    "%load_ext autoreload\n",
    "%autoreload 2"
   ]
  },
  {
   "cell_type": "code",
   "execution_count": 35,
   "metadata": {
    "collapsed": false
   },
   "outputs": [
    {
     "name": "stdout",
     "output_type": "stream",
     "text": [
      "Train data shape:  (49000, 3073)\n",
      "Train labels shape:  (49000,)\n",
      "Validation data shape:  (1000, 3073)\n",
      "Validation labels shape:  (1000,)\n",
      "Test data shape:  (1000, 3073)\n",
      "Test labels shape:  (1000,)\n",
      "dev data shape:  (500, 3073)\n",
      "dev labels shape:  (500,)\n"
     ]
    }
   ],
   "source": [
    "def get_CIFAR10_data(num_training=49000, num_validation=1000, num_test=1000, num_dev=500):\n",
    "  \"\"\"\n",
    "  Load the CIFAR-10 dataset from disk and perform preprocessing to prepare\n",
    "  it for the linear classifier. These are the same steps as we used for the\n",
    "  SVM, but condensed to a single function.  \n",
    "  \"\"\"\n",
    "  # Load the raw CIFAR-10 data\n",
    "  cifar10_dir = 'cs231n/datasets/cifar-10-batches-py'\n",
    "  X_train, y_train, X_test, y_test = load_CIFAR10(cifar10_dir)\n",
    "  \n",
    "  # subsample the data\n",
    "  mask = range(num_training, num_training + num_validation)\n",
    "  X_val = X_train[mask]\n",
    "  y_val = y_train[mask]\n",
    "  mask = range(num_training)\n",
    "  X_train = X_train[mask]\n",
    "  y_train = y_train[mask]\n",
    "  mask = range(num_test)\n",
    "  X_test = X_test[mask]\n",
    "  y_test = y_test[mask]\n",
    "  mask = np.random.choice(num_training, num_dev, replace=False)\n",
    "  X_dev = X_train[mask]\n",
    "  y_dev = y_train[mask]\n",
    "  \n",
    "  # Preprocessing: reshape the image data into rows\n",
    "  X_train = np.reshape(X_train, (X_train.shape[0], -1))\n",
    "  X_val = np.reshape(X_val, (X_val.shape[0], -1))\n",
    "  X_test = np.reshape(X_test, (X_test.shape[0], -1))\n",
    "  X_dev = np.reshape(X_dev, (X_dev.shape[0], -1))\n",
    "  \n",
    "  # Normalize the data: subtract the mean image\n",
    "  mean_image = np.mean(X_train, axis = 0)\n",
    "  X_train -= mean_image\n",
    "  X_val -= mean_image\n",
    "  X_test -= mean_image\n",
    "  X_dev -= mean_image\n",
    "  \n",
    "  # add bias dimension and transform into columns\n",
    "  X_train = np.hstack([X_train, np.ones((X_train.shape[0], 1))])\n",
    "  X_val = np.hstack([X_val, np.ones((X_val.shape[0], 1))])\n",
    "  X_test = np.hstack([X_test, np.ones((X_test.shape[0], 1))])\n",
    "  X_dev = np.hstack([X_dev, np.ones((X_dev.shape[0], 1))])\n",
    "  \n",
    "  return X_train, y_train, X_val, y_val, X_test, y_test, X_dev, y_dev\n",
    "\n",
    "\n",
    "# Invoke the above function to get our data.\n",
    "X_train, y_train, X_val, y_val, X_test, y_test, X_dev, y_dev = get_CIFAR10_data()\n",
    "print 'Train data shape: ', X_train.shape\n",
    "print 'Train labels shape: ', y_train.shape\n",
    "print 'Validation data shape: ', X_val.shape\n",
    "print 'Validation labels shape: ', y_val.shape\n",
    "print 'Test data shape: ', X_test.shape\n",
    "print 'Test labels shape: ', y_test.shape\n",
    "print 'dev data shape: ', X_dev.shape\n",
    "print 'dev labels shape: ', y_dev.shape"
   ]
  },
  {
   "cell_type": "markdown",
   "metadata": {},
   "source": [
    "## Softmax Classifier\n",
    "\n",
    "Your code for this section will all be written inside **cs231n/classifiers/softmax.py**. \n"
   ]
  },
  {
   "cell_type": "code",
   "execution_count": 36,
   "metadata": {
    "collapsed": false
   },
   "outputs": [
    {
     "name": "stdout",
     "output_type": "stream",
     "text": [
      "loss: 2.299051\n",
      "sanity check: 2.302585\n"
     ]
    }
   ],
   "source": [
    "# First implement the naive softmax loss function with nested loops.\n",
    "# Open the file cs231n/classifiers/softmax.py and implement the\n",
    "# softmax_loss_naive function.\n",
    "\n",
    "from cs231n.classifiers.softmax import softmax_loss_naive\n",
    "import time\n",
    "\n",
    "# Generate a random softmax weight matrix and use it to compute the loss.\n",
    "W = np.random.randn(3073, 10) * 0.0001\n",
    "loss, grad = softmax_loss_naive(W, X_dev, y_dev, 0.0)\n",
    "\n",
    "# As a rough sanity check, our loss should be something close to -log(0.1).\n",
    "print 'loss: %f' % loss\n",
    "print 'sanity check: %f' % (-np.log(0.1))"
   ]
  },
  {
   "cell_type": "markdown",
   "metadata": {},
   "source": [
    "## Inline Question 1:\n",
    "Why do we expect our loss to be close to -log(0.1)? Explain briefly.**\n",
    "\n",
    "**Your answer:** *Fill this in*\n",
    "- Because in the early training phase, the classifily is more like guessing the results, so the correct probability should be around 1/10, and the loss is interpreted by negative log probability of the correctness. \n"
   ]
  },
  {
   "cell_type": "code",
   "execution_count": 37,
   "metadata": {
    "collapsed": false
   },
   "outputs": [
    {
     "name": "stdout",
     "output_type": "stream",
     "text": [
      "numerical: -1.178518 analytic: -1.178518, relative error: 1.368159e-08\n",
      "numerical: 3.091961 analytic: 3.091961, relative error: 7.361572e-09\n",
      "numerical: -0.676713 analytic: -0.676713, relative error: 1.540170e-08\n",
      "numerical: 0.573859 analytic: 0.573859, relative error: 3.452385e-08\n",
      "numerical: -2.718515 analytic: -2.718515, relative error: 1.751233e-09\n",
      "numerical: 2.514648 analytic: 2.514648, relative error: 1.039438e-08\n",
      "numerical: -0.464416 analytic: -0.464416, relative error: 1.593181e-08\n",
      "numerical: -0.097392 analytic: -0.097393, relative error: 7.150246e-07\n",
      "numerical: 3.069977 analytic: 3.069977, relative error: 5.798639e-09\n",
      "numerical: 1.378626 analytic: 1.378626, relative error: 1.688242e-08\n",
      "numerical: 0.338724 analytic: 0.338724, relative error: 3.913804e-08\n",
      "numerical: -2.404372 analytic: -2.404372, relative error: 1.074795e-08\n",
      "numerical: -4.302155 analytic: -4.302155, relative error: 8.390475e-09\n",
      "numerical: -0.420000 analytic: -0.420000, relative error: 1.890300e-07\n",
      "numerical: 1.032664 analytic: 1.032664, relative error: 2.791898e-08\n",
      "numerical: -4.766090 analytic: -4.766090, relative error: 1.839637e-08\n",
      "numerical: -1.186297 analytic: -1.186297, relative error: 1.846325e-09\n",
      "numerical: 0.504253 analytic: 0.504253, relative error: 1.230156e-08\n",
      "numerical: 1.172592 analytic: 1.172592, relative error: 4.851271e-08\n",
      "numerical: 1.912473 analytic: 1.912473, relative error: 1.005283e-08\n"
     ]
    }
   ],
   "source": [
    "# Complete the implementation of softmax_loss_naive and implement a (naive)\n",
    "# version of the gradient that uses nested loops.\n",
    "loss, grad = softmax_loss_naive(W, X_dev, y_dev, 0.0)\n",
    "\n",
    "# As we did for the SVM, use numeric gradient checking as a debugging tool.\n",
    "# The numeric gradient should be close to the analytic gradient.\n",
    "from cs231n.gradient_check import grad_check_sparse\n",
    "f = lambda w: softmax_loss_naive(w, X_dev, y_dev, 0.0)[0]\n",
    "grad_numerical = grad_check_sparse(f, W, grad, 10)\n",
    "\n",
    "# similar to SVM case, do another gradient check with regularization\n",
    "loss, grad = softmax_loss_naive(W, X_dev, y_dev, 1e2)\n",
    "f = lambda w: softmax_loss_naive(w, X_dev, y_dev, 1e2)[0]\n",
    "grad_numerical = grad_check_sparse(f, W, grad, 10)"
   ]
  },
  {
   "cell_type": "code",
   "execution_count": 38,
   "metadata": {
    "collapsed": false
   },
   "outputs": [
    {
     "name": "stdout",
     "output_type": "stream",
     "text": [
      "naive loss: 2.299051e+00 computed in 0.091477s\n",
      "vectorized loss: 2.299051e+00 computed in 0.008653s\n",
      "Loss difference: 0.000000\n",
      "Gradient difference: 0.000000\n"
     ]
    }
   ],
   "source": [
    "# Now that we have a naive implementation of the softmax loss function and its gradient,\n",
    "# implement a vectorized version in softmax_loss_vectorized.\n",
    "# The two versions should compute the same results, but the vectorized version should be\n",
    "# much faster.\n",
    "tic = time.time()\n",
    "loss_naive, grad_naive = softmax_loss_naive(W, X_dev, y_dev, 0.00001)\n",
    "toc = time.time()\n",
    "print 'naive loss: %e computed in %fs' % (loss_naive, toc - tic)\n",
    "\n",
    "from cs231n.classifiers.softmax import softmax_loss_vectorized\n",
    "tic = time.time()\n",
    "loss_vectorized, grad_vectorized = softmax_loss_vectorized(W, X_dev, y_dev, 0.00001)\n",
    "toc = time.time()\n",
    "print 'vectorized loss: %e computed in %fs' % (loss_vectorized, toc - tic)\n",
    "\n",
    "# As we did for the SVM, we use the Frobenius norm to compare the two versions\n",
    "# of the gradient.\n",
    "grad_difference = np.linalg.norm(grad_naive - grad_vectorized, ord='fro')\n",
    "print 'Loss difference: %f' % np.abs(loss_naive - loss_vectorized)\n",
    "print 'Gradient difference: %f' % grad_difference"
   ]
  },
  {
   "cell_type": "code",
   "execution_count": 54,
   "metadata": {
    "collapsed": false
   },
   "outputs": [
    {
     "name": "stdout",
     "output_type": "stream",
     "text": [
      "iteration 100 / 2500: loss 2.808126\n",
      "iteration 200 / 2500: loss 2.382956\n",
      "iteration 300 / 2500: loss 2.113943\n",
      "iteration 400 / 2500: loss 1.996632\n",
      "iteration 500 / 2500: loss 2.020874\n",
      "iteration 600 / 2500: loss 2.036815\n",
      "iteration 700 / 2500: loss 1.991077\n",
      "iteration 800 / 2500: loss 1.958162\n",
      "iteration 900 / 2500: loss 1.974833\n",
      "iteration 1000 / 2500: loss 2.002118\n",
      "iteration 1100 / 2500: loss 1.961539\n",
      "iteration 1200 / 2500: loss 1.972892\n",
      "iteration 1300 / 2500: loss 2.021913\n",
      "iteration 1400 / 2500: loss 2.011142\n",
      "iteration 1500 / 2500: loss 2.026962\n",
      "iteration 1600 / 2500: loss 2.003189\n",
      "iteration 1700 / 2500: loss 2.042404\n",
      "iteration 1800 / 2500: loss 2.066007\n",
      "iteration 1900 / 2500: loss 1.970783\n",
      "iteration 2000 / 2500: loss 2.029202\n",
      "iteration 2100 / 2500: loss 1.958132\n",
      "iteration 2200 / 2500: loss 2.013853\n",
      "iteration 2300 / 2500: loss 1.972881\n",
      "iteration 2400 / 2500: loss 1.988078\n",
      "iteration 2500 / 2500: loss 2.029935\n",
      "iteration 100 / 2500: loss 2.414477\n",
      "iteration 200 / 2500: loss 2.168825\n",
      "iteration 300 / 2500: loss 2.090080\n",
      "iteration 400 / 2500: loss 2.072544\n",
      "iteration 500 / 2500: loss 2.081192\n",
      "iteration 600 / 2500: loss 2.057278\n",
      "iteration 700 / 2500: loss 2.053303\n",
      "iteration 800 / 2500: loss 2.064980\n",
      "iteration 900 / 2500: loss 2.063197\n",
      "iteration 1000 / 2500: loss 2.059555\n",
      "iteration 1100 / 2500: loss 2.074223\n",
      "iteration 1200 / 2500: loss 2.036936\n",
      "iteration 1300 / 2500: loss 2.031192\n",
      "iteration 1400 / 2500: loss 2.068548\n",
      "iteration 1500 / 2500: loss 2.032964\n",
      "iteration 1600 / 2500: loss 2.063643\n",
      "iteration 1700 / 2500: loss 2.047228\n",
      "iteration 1800 / 2500: loss 2.089000\n",
      "iteration 1900 / 2500: loss 2.076694\n",
      "iteration 2000 / 2500: loss 2.041971\n",
      "iteration 2100 / 2500: loss 2.012380\n",
      "iteration 2200 / 2500: loss 2.076558\n",
      "iteration 2300 / 2500: loss 2.056342\n",
      "iteration 2400 / 2500: loss 2.094195\n",
      "iteration 2500 / 2500: loss 2.046587\n",
      "iteration 100 / 2500: loss 3.652459\n",
      "iteration 200 / 2500: loss 3.225788\n",
      "iteration 300 / 2500: loss 2.897038\n",
      "iteration 400 / 2500: loss 2.655000\n",
      "iteration 500 / 2500: loss 2.371185\n",
      "iteration 600 / 2500: loss 2.429959\n",
      "iteration 700 / 2500: loss 2.004281\n",
      "iteration 800 / 2500: loss 2.133893\n",
      "iteration 900 / 2500: loss 2.148347\n",
      "iteration 1000 / 2500: loss 1.991804\n",
      "iteration 1100 / 2500: loss 2.119616\n",
      "iteration 1200 / 2500: loss 1.806622\n",
      "iteration 1300 / 2500: loss 2.044169\n",
      "iteration 1400 / 2500: loss 1.934077\n",
      "iteration 1500 / 2500: loss 1.931278\n",
      "iteration 1600 / 2500: loss 1.945554\n",
      "iteration 1700 / 2500: loss 1.833168\n",
      "iteration 1800 / 2500: loss 1.933977\n",
      "iteration 1900 / 2500: loss 1.895986\n",
      "iteration 2000 / 2500: loss 1.831312\n",
      "iteration 2100 / 2500: loss 1.933695\n",
      "iteration 2200 / 2500: loss 1.892297\n",
      "iteration 2300 / 2500: loss 1.819864\n",
      "iteration 2400 / 2500: loss 1.876744\n",
      "iteration 2500 / 2500: loss 1.853338\n",
      "iteration 100 / 2500: loss 2.011142\n",
      "iteration 200 / 2500: loss 1.986804\n",
      "iteration 300 / 2500: loss 2.018236\n",
      "iteration 400 / 2500: loss 1.999610\n",
      "iteration 500 / 2500: loss 2.003264\n",
      "iteration 600 / 2500: loss 2.000808\n",
      "iteration 700 / 2500: loss 1.986070\n",
      "iteration 800 / 2500: loss 2.029013\n",
      "iteration 900 / 2500: loss 1.991680\n",
      "iteration 1000 / 2500: loss 1.984656\n",
      "iteration 1100 / 2500: loss 2.066633\n",
      "iteration 1200 / 2500: loss 2.009427\n",
      "iteration 1300 / 2500: loss 1.973914\n",
      "iteration 1400 / 2500: loss 1.993162\n",
      "iteration 1500 / 2500: loss 2.009140\n",
      "iteration 1600 / 2500: loss 2.036753\n",
      "iteration 1700 / 2500: loss 2.021274\n",
      "iteration 1800 / 2500: loss 1.985719\n",
      "iteration 1900 / 2500: loss 2.032332\n",
      "iteration 2000 / 2500: loss 2.013445\n",
      "iteration 2100 / 2500: loss 1.938114\n",
      "iteration 2200 / 2500: loss 1.912506\n",
      "iteration 2300 / 2500: loss 1.983162\n",
      "iteration 2400 / 2500: loss 2.012583\n",
      "iteration 2500 / 2500: loss 1.913841\n",
      "iteration 100 / 2500: loss 2.071784\n",
      "iteration 200 / 2500: loss 2.089043\n",
      "iteration 300 / 2500: loss 2.024986\n",
      "iteration 400 / 2500: loss 2.062525\n",
      "iteration 500 / 2500: loss 2.059143\n",
      "iteration 600 / 2500: loss 2.059431\n",
      "iteration 700 / 2500: loss 2.076491\n",
      "iteration 800 / 2500: loss 2.083741\n",
      "iteration 900 / 2500: loss 2.050066\n",
      "iteration 1000 / 2500: loss 2.095861\n",
      "iteration 1100 / 2500: loss 2.059603\n",
      "iteration 1200 / 2500: loss 2.060564\n",
      "iteration 1300 / 2500: loss 2.072115\n",
      "iteration 1400 / 2500: loss 2.053817\n",
      "iteration 1500 / 2500: loss 2.033138\n",
      "iteration 1600 / 2500: loss 2.060456\n",
      "iteration 1700 / 2500: loss 2.043837\n",
      "iteration 1800 / 2500: loss 2.064880\n",
      "iteration 1900 / 2500: loss 2.063497\n",
      "iteration 2000 / 2500: loss 2.071213\n",
      "iteration 2100 / 2500: loss 2.089620\n",
      "iteration 2200 / 2500: loss 2.044720\n",
      "iteration 2300 / 2500: loss 2.072442\n",
      "iteration 2400 / 2500: loss 2.061585\n",
      "iteration 2500 / 2500: loss 2.022654\n",
      "iteration 100 / 2500: loss 2.460393\n",
      "iteration 200 / 2500: loss 1.994786\n",
      "iteration 300 / 2500: loss 1.947451\n",
      "iteration 400 / 2500: loss 1.915430\n",
      "iteration 500 / 2500: loss 1.869796\n",
      "iteration 600 / 2500: loss 1.806171\n",
      "iteration 700 / 2500: loss 1.850454\n",
      "iteration 800 / 2500: loss 1.934174\n",
      "iteration 900 / 2500: loss 1.850638\n",
      "iteration 1000 / 2500: loss 1.895792\n",
      "iteration 1100 / 2500: loss 1.890557\n",
      "iteration 1200 / 2500: loss 1.888695\n",
      "iteration 1300 / 2500: loss 1.913221\n",
      "iteration 1400 / 2500: loss 1.869877\n",
      "iteration 1500 / 2500: loss 1.797978\n",
      "iteration 1600 / 2500: loss 1.906545\n",
      "iteration 1700 / 2500: loss 1.840356\n",
      "iteration 1800 / 2500: loss 1.884959\n",
      "iteration 1900 / 2500: loss 1.899068\n",
      "iteration 2000 / 2500: loss 1.887965\n",
      "iteration 2100 / 2500: loss 1.877216\n",
      "iteration 2200 / 2500: loss 1.814693\n",
      "iteration 2300 / 2500: loss 1.756598\n",
      "iteration 2400 / 2500: loss 1.827483\n",
      "iteration 2500 / 2500: loss 1.879500\n",
      "lr 1.000000e-07 reg 1.000000e+04 train accuracy: 0.368245 val accuracy: 0.376000\n",
      "lr 1.000000e-07 reg 5.000000e+04 train accuracy: 0.330286 val accuracy: 0.342000\n",
      "lr 1.000000e-07 reg 1.000000e+05 train accuracy: 0.316612 val accuracy: 0.336000\n",
      "lr 5.000000e-07 reg 1.000000e+04 train accuracy: 0.372020 val accuracy: 0.378000\n",
      "lr 5.000000e-07 reg 5.000000e+04 train accuracy: 0.320224 val accuracy: 0.319000\n",
      "lr 5.000000e-07 reg 1.000000e+05 train accuracy: 0.302796 val accuracy: 0.321000\n",
      "best validation accuracy achieved during cross-validation: 0.378000\n"
     ]
    }
   ],
   "source": [
    "# Use the validation set to tune hyperparameters (regularization strength and\n",
    "# learning rate). You should experiment with different ranges for the learning\n",
    "# rates and regularization strengths; if you are careful you should be able to\n",
    "# get a classification accuracy of over 0.35 on the validation set.\n",
    "from cs231n.classifiers import Softmax\n",
    "results = {}\n",
    "best_val = -1\n",
    "best_softmax = None\n",
    "learning_rates = [1e-7, 5e-7]\n",
    "regularization_strengths = [5e4, 1e5, 1e4]\n",
    "\n",
    "#learning_rates = []\n",
    "#for i in xrange(15):\n",
    "#    learning_rates.append(10 ** np.random.uniform(-7,-3))\n",
    "#regularization_strengths = []\n",
    "#for i in xrange(15):\n",
    "#    regularization_strengths.append(10 ** np.random.uniform(-8,5))\n",
    "\n",
    "################################################################################\n",
    "# TODO:                                                                        #\n",
    "# Use the validation set to set the learning rate and regularization strength. #\n",
    "# This should be identical to the validation that you did for the SVM; save    #\n",
    "# the best trained softmax classifer in best_softmax.                          #\n",
    "################################################################################\n",
    "for lr in learning_rates:\n",
    "    for regu in regularization_strengths:\n",
    "        softmax = Softmax()\n",
    "        loss_hist = softmax.train(X_train, y_train, learning_rate=lr, reg=regu,\n",
    "                      num_iters=2500, verbose=True)\n",
    "        y_train_pred = softmax.predict(X_train)\n",
    "        training_accuracy = np.mean(y_train == y_train_pred)\n",
    "        y_val_pred = softmax.predict(X_val)\n",
    "        validation_accuracy = np.mean(y_val == y_val_pred)\n",
    "        results[(lr, regu)] = (training_accuracy, validation_accuracy)\n",
    "        if best_val < validation_accuracy:\n",
    "            best_val = validation_accuracy\n",
    "            best_softmax = softmax\n",
    "################################################################################\n",
    "#                              END OF YOUR CODE                                #\n",
    "################################################################################\n",
    "    \n",
    "# Print out results.\n",
    "for lr, reg in sorted(results):\n",
    "    train_accuracy, val_accuracy = results[(lr, reg)]\n",
    "    print 'lr %e reg %e train accuracy: %f val accuracy: %f' % (\n",
    "                lr, reg, train_accuracy, val_accuracy)\n",
    "    \n",
    "print 'best validation accuracy achieved during cross-validation: %f' % best_val"
   ]
  },
  {
   "cell_type": "code",
   "execution_count": 56,
   "metadata": {
    "collapsed": false
   },
   "outputs": [
    {
     "name": "stdout",
     "output_type": "stream",
     "text": [
      "softmax on raw pixels final test set accuracy: 0.360000\n"
     ]
    }
   ],
   "source": [
    "# evaluate on test set\n",
    "# Evaluate the best softmax on test set\n",
    "y_test_pred = best_softmax.predict(X_test)\n",
    "test_accuracy = np.mean(y_test == y_test_pred)\n",
    "print 'softmax on raw pixels final test set accuracy: %f' % (test_accuracy, )"
   ]
  },
  {
   "cell_type": "code",
   "execution_count": 57,
   "metadata": {
    "collapsed": false
   },
   "outputs": [
    {
     "data": {
      "image/png": "[encoded data removed]",
      "text/plain": [
       "<matplotlib.figure.Figure at 0x7f1934b77fd0>"
      ]
     },
     "metadata": {},
     "output_type": "display_data"
    }
   ],
   "source": [
    "# Visualize the learned weights for each class\n",
    "w = best_softmax.W[:-1,:] # strip out the bias\n",
    "w = w.reshape(32, 32, 3, 10)\n",
    "\n",
    "w_min, w_max = np.min(w), np.max(w)\n",
    "\n",
    "classes = ['plane', 'car', 'bird', 'cat', 'deer', 'dog', 'frog', 'horse', 'ship', 'truck']\n",
    "for i in xrange(10):\n",
    "  plt.subplot(2, 5, i + 1)\n",
    "  \n",
    "  # Rescale the weights to be between 0 and 255\n",
    "  wimg = 255.0 * (w[:, :, :, i].squeeze() - w_min) / (w_max - w_min)\n",
    "  plt.imshow(wimg.astype('uint8'))\n",
    "  plt.axis('off')\n",
    "  plt.title(classes[i])"
   ]
  },
  {
   "cell_type": "code",
   "execution_count": null,
   "metadata": {
    "collapsed": true
   },
   "outputs": [],
   "source": []
  }
 ],
 "metadata": {
  "kernelspec": {
   "display_name": "Python 2",
   "language": "python",
   "name": "python2"
  },
  "language_info": {
   "codemirror_mode": {
    "name": "ipython",
    "version": 2
   },
   "file_extension": ".py",
   "mimetype": "text/x-python",
   "name": "python",
   "nbconvert_exporter": "python",
   "pygments_lexer": "ipython2",
   "version": "2.7.10"
  },
  "latex_envs": {
   "bibliofile": "biblio.bib",
   "cite_by": "apalike",
   "current_citInitial": 1,
   "eqLabelWithNumbers": true,
   "eqNumInitial": 0
  }
 },
 "nbformat": 4,
 "nbformat_minor": 0
}
